{
 "cells": [
  {
   "cell_type": "code",
   "execution_count": 1,
   "metadata": {},
   "outputs": [],
   "source": [
    "# Assignment 2- \n",
    "# Q1: Write a program which accepts a sequence of comma-seperated numbers\n",
    "#- from console and generate a list. \n",
    "#Q2: Create the below pattern using nested for loop in python.\n",
    "#Q3: write a Python program to reverse a word after accepting the input \n",
    "#.... from the user. (Sample Output: Input word: AcadGild, Output: dilGdacA)\n",
    "#Q4: Write a Python program to print the given string in the format specified\n",
    "# in the sample output:\n",
    "# We, the people of India, having solemnly resovled to constitue inida into\n",
    "# sovereign, socialist, secular, democractic republic and to secure to all its citizen"
   ]
  },
  {
   "cell_type": "code",
   "execution_count": 2,
   "metadata": {},
   "outputs": [
    {
     "name": "stdout",
     "output_type": "stream",
     "text": [
      "Input some comma-serpated numbers : 123,3434,4545\n",
      "list : ['123', '3434', '4545']\n"
     ]
    }
   ],
   "source": [
    "values = input(\"Input some comma-serpated numbers : \")\n",
    "list = values.split(\",\")\n",
    "print('list :',list)"
   ]
  },
  {
   "cell_type": "code",
   "execution_count": 7,
   "metadata": {},
   "outputs": [],
   "source": [
    "#Q2: Create the below pattern using nested for loop in Python. "
   ]
  },
  {
   "cell_type": "code",
   "execution_count": 24,
   "metadata": {},
   "outputs": [
    {
     "name": "stdout",
     "output_type": "stream",
     "text": [
      "\n",
      "*\n",
      "**\n",
      "***\n",
      "****\n",
      "*****\n",
      "****\n",
      "***\n",
      "**\n",
      "*\n"
     ]
    }
   ],
   "source": [
    "n = 5;\n",
    "for i in range(n):\n",
    "    for j in range(i):\n",
    "        print ('*', end=\"\")\n",
    "    print('')\n",
    "    \n",
    "for i in range (n,0,-1):\n",
    "    for j in range(i):\n",
    "        print('*', end=\"\")\n",
    "    print('')\n",
    "        "
   ]
  },
  {
   "cell_type": "code",
   "execution_count": 39,
   "metadata": {},
   "outputs": [],
   "source": [
    "#Q3: Write a python program to reverse a word after accepting the input from the user."
   ]
  },
  {
   "cell_type": "code",
   "execution_count": 40,
   "metadata": {},
   "outputs": [],
   "source": [
    "# Python program - Reverse String"
   ]
  },
  {
   "cell_type": "code",
   "execution_count": 41,
   "metadata": {},
   "outputs": [
    {
     "name": "stdout",
     "output_type": "stream",
     "text": [
      "Enter 'x' for the exit.\n",
      "Enter any string to reverse it: AcadGild\n",
      "\n",
      "original string =  AcadGild\n",
      "Reversed string = dliGdacA\n"
     ]
    }
   ],
   "source": [
    "print(\"Enter 'x' for the exit.\");\n",
    "string = input(\"Enter any string to reverse it: \")\n",
    "if string == 'x':\n",
    "    exit();\n",
    "else:\n",
    "    revstring = string[::-1];\n",
    "    print(\"\\noriginal string = \",string);\n",
    "    print(\"Reversed string =\", revstring);"
   ]
  },
  {
   "cell_type": "code",
   "execution_count": 42,
   "metadata": {},
   "outputs": [],
   "source": [
    "#Q4:Write a python program to print the string in the format specified"
   ]
  },
  {
   "cell_type": "code",
   "execution_count": 37,
   "metadata": {},
   "outputs": [
    {
     "name": "stdout",
     "output_type": "stream",
     "text": [
      "We, THE PEOPLE OF INDIA, \n",
      "\thaving solemnly resolved to constitute India into a SOVEREIGN,!      \n",
      "\t      SOCIALIST, SECULAR, DEMOCRATIC REPUBLIC      \n",
      "\t      and to secure to all its citizens\n"
     ]
    }
   ],
   "source": [
    "print(\"We, THE PEOPLE OF INDIA, \\n\\thaving solemnly resolved to constitute India into a SOVEREIGN,!      \\n\\t      SOCIALIST, SECULAR, DEMOCRATIC REPUBLIC      \\n\\t      and to secure to all its citizens\")"
   ]
  }
 ],
 "metadata": {
  "kernelspec": {
   "display_name": "Python 3",
   "language": "python",
   "name": "python3"
  },
  "language_info": {
   "codemirror_mode": {
    "name": "ipython",
    "version": 3
   },
   "file_extension": ".py",
   "mimetype": "text/x-python",
   "name": "python",
   "nbconvert_exporter": "python",
   "pygments_lexer": "ipython3",
   "version": "3.6.5"
  }
 },
 "nbformat": 4,
 "nbformat_minor": 2
}
